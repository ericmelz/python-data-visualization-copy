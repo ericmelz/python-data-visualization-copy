{
 "cells": [
  {
   "cell_type": "markdown",
   "id": "4667ade0-fd68-4fdb-8b11-56afd9073466",
   "metadata": {},
   "source": [
    "### Chapter 5 Seaborn Data Visualization\n",
    "Exercise 3"
   ]
  },
  {
   "cell_type": "code",
   "execution_count": null,
   "id": "03a9eb52-0f06-4e0f-8a89-489b77e78262",
   "metadata": {},
   "outputs": [],
   "source": []
  }
 ],
 "metadata": {
  "kernelspec": {
   "display_name": "Python 3 (ipykernel)",
   "language": "python",
   "name": "python3"
  },
  "language_info": {
   "codemirror_mode": {
    "name": "ipython",
    "version": 3
   },
   "file_extension": ".py",
   "mimetype": "text/x-python",
   "name": "python",
   "nbconvert_exporter": "python",
   "pygments_lexer": "ipython3",
   "version": "3.12.2"
  }
 },
 "nbformat": 4,
 "nbformat_minor": 5
}
